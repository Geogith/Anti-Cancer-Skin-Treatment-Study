{
 "cells": [
  {
   "cell_type": "code",
   "execution_count": 1,
   "metadata": {},
   "outputs": [],
   "source": [
    "# Purpose of Study: Comparison of anti-cancer skin treatment Capomulin versus other skin cancer treatment performed on \n",
    "#                   249 mice.\n",
    "#                   A 45 days study that observed and measured scc tumor growths in mice to determine the efficacy of\n",
    "#                   Capomulin compared to other treatment regimens.\n",
    "#\n",
    "# Summary of Study Results: Provide a summary of observations and insights using tables and figures to present the \n",
    "#                  study results. Look across all previously generated figures and tables and write at least \n",
    "#                  three observations or inferences that can be made from the data. Include these observation\n",
    "#                  at the top of notebook:\n",
    "# Observation 1.) Bar plots and Pie charts show total number of mice for each treatment(10) were evenly distributed\n",
    "#                 amongst the sexes. Therefore, the study results are not bias to any particular sex.\n",
    "# Observation 2.) Mouse C326 using Infubinol regimen had one outlier compared to the other three promising drug treatments.\n",
    "# Observation 3.) Capomulin line plot for Mouse S185 shows the Tumor Volume decreases with time.\n",
    "# Observation 4.) Capomulin scatter plot shows a reduction of mouse weight as tumor volume decreases.\n",
    "# Observation 5.) Fnally, linear regression line shows a positive relationship (independent and dependentht variables go up)\n",
    "#                 between tumor volume and weight using Capomulin drug regimen. Thereby confirming (along with the line\n",
    "#                 and scatter plots) the Capomulin is the most promising anti-cancer skin treatment compared to the others\n",
    "#                 based on using mice for testing. "
   ]
  },
  {
   "cell_type": "code",
   "execution_count": 2,
   "metadata": {},
   "outputs": [],
   "source": [
    "# Interactive charting with %matplotlib notebook wasn't include because we will be creating multiple plots in a \n",
    "# single notebook without turning off interactive window.\n",
    "\n",
    "# Import dependencies\n",
    "import matplotlib.pyplot as plt\n",
    "import numpy as np\n",
    "import pandas as pd\n",
    "import scipy.stats as st\n",
    "import os"
   ]
  },
  {
   "cell_type": "code",
   "execution_count": 3,
   "metadata": {},
   "outputs": [
    {
     "data": {
      "text/html": [
       "<div>\n",
       "<style scoped>\n",
       "    .dataframe tbody tr th:only-of-type {\n",
       "        vertical-align: middle;\n",
       "    }\n",
       "\n",
       "    .dataframe tbody tr th {\n",
       "        vertical-align: top;\n",
       "    }\n",
       "\n",
       "    .dataframe thead th {\n",
       "        text-align: right;\n",
       "    }\n",
       "</style>\n",
       "<table border=\"1\" class=\"dataframe\">\n",
       "  <thead>\n",
       "    <tr style=\"text-align: right;\">\n",
       "      <th></th>\n",
       "      <th>Mouse ID</th>\n",
       "      <th>Timepoint</th>\n",
       "      <th>Tumor Volume (mm3)</th>\n",
       "      <th>Metastatic Sites</th>\n",
       "    </tr>\n",
       "  </thead>\n",
       "  <tbody>\n",
       "    <tr>\n",
       "      <th>0</th>\n",
       "      <td>b128</td>\n",
       "      <td>0</td>\n",
       "      <td>45.0</td>\n",
       "      <td>0</td>\n",
       "    </tr>\n",
       "    <tr>\n",
       "      <th>1</th>\n",
       "      <td>f932</td>\n",
       "      <td>0</td>\n",
       "      <td>45.0</td>\n",
       "      <td>0</td>\n",
       "    </tr>\n",
       "    <tr>\n",
       "      <th>2</th>\n",
       "      <td>g107</td>\n",
       "      <td>0</td>\n",
       "      <td>45.0</td>\n",
       "      <td>0</td>\n",
       "    </tr>\n",
       "    <tr>\n",
       "      <th>3</th>\n",
       "      <td>a457</td>\n",
       "      <td>0</td>\n",
       "      <td>45.0</td>\n",
       "      <td>0</td>\n",
       "    </tr>\n",
       "    <tr>\n",
       "      <th>4</th>\n",
       "      <td>c819</td>\n",
       "      <td>0</td>\n",
       "      <td>45.0</td>\n",
       "      <td>0</td>\n",
       "    </tr>\n",
       "  </tbody>\n",
       "</table>\n",
       "</div>"
      ],
      "text/plain": [
       "  Mouse ID  Timepoint  Tumor Volume (mm3)  Metastatic Sites\n",
       "0     b128          0                45.0                 0\n",
       "1     f932          0                45.0                 0\n",
       "2     g107          0                45.0                 0\n",
       "3     a457          0                45.0                 0\n",
       "4     c819          0                45.0                 0"
      ]
     },
     "execution_count": 3,
     "metadata": {},
     "output_type": "execute_result"
    }
   ],
   "source": [
    "# 1. Check the data for any mouse ID with duplicate timepoints and remove any data associated with that mouse ID.\n",
    "\n",
    "# df = pd.read_csv(os.path.join(\"Resources\", \"Mouse_metadata.csv\"))\n",
    "# df.duplicated()\n",
    "# study_resultsedit = df.drop_duplicates()\n",
    "# pd.set_option('display.max_rows', None)\n",
    "\n",
    "df = pd.read_csv(os.path.join(\"Resources\", \"Study_results.csv\"))\n",
    "study_resultsedit = df.drop_duplicates()\n",
    "df.head(5)"
   ]
  },
  {
   "cell_type": "code",
   "execution_count": 4,
   "metadata": {},
   "outputs": [
    {
     "data": {
      "text/html": [
       "<div>\n",
       "<style scoped>\n",
       "    .dataframe tbody tr th:only-of-type {\n",
       "        vertical-align: middle;\n",
       "    }\n",
       "\n",
       "    .dataframe tbody tr th {\n",
       "        vertical-align: top;\n",
       "    }\n",
       "\n",
       "    .dataframe thead th {\n",
       "        text-align: right;\n",
       "    }\n",
       "</style>\n",
       "<table border=\"1\" class=\"dataframe\">\n",
       "  <thead>\n",
       "    <tr style=\"text-align: right;\">\n",
       "      <th></th>\n",
       "      <th>Mouse ID</th>\n",
       "      <th>Drug Regimen</th>\n",
       "      <th>Sex</th>\n",
       "      <th>Age_months</th>\n",
       "      <th>Weight (g)</th>\n",
       "      <th>Timepoint</th>\n",
       "      <th>Tumor Volume (mm3)</th>\n",
       "      <th>Metastatic Sites</th>\n",
       "    </tr>\n",
       "  </thead>\n",
       "  <tbody>\n",
       "    <tr>\n",
       "      <th>0</th>\n",
       "      <td>k403</td>\n",
       "      <td>Ramicane</td>\n",
       "      <td>Male</td>\n",
       "      <td>21</td>\n",
       "      <td>16</td>\n",
       "      <td>0</td>\n",
       "      <td>45.000000</td>\n",
       "      <td>0</td>\n",
       "    </tr>\n",
       "    <tr>\n",
       "      <th>1</th>\n",
       "      <td>k403</td>\n",
       "      <td>Ramicane</td>\n",
       "      <td>Male</td>\n",
       "      <td>21</td>\n",
       "      <td>16</td>\n",
       "      <td>5</td>\n",
       "      <td>38.825898</td>\n",
       "      <td>0</td>\n",
       "    </tr>\n",
       "    <tr>\n",
       "      <th>2</th>\n",
       "      <td>k403</td>\n",
       "      <td>Ramicane</td>\n",
       "      <td>Male</td>\n",
       "      <td>21</td>\n",
       "      <td>16</td>\n",
       "      <td>10</td>\n",
       "      <td>35.014271</td>\n",
       "      <td>1</td>\n",
       "    </tr>\n",
       "    <tr>\n",
       "      <th>3</th>\n",
       "      <td>k403</td>\n",
       "      <td>Ramicane</td>\n",
       "      <td>Male</td>\n",
       "      <td>21</td>\n",
       "      <td>16</td>\n",
       "      <td>15</td>\n",
       "      <td>34.223992</td>\n",
       "      <td>1</td>\n",
       "    </tr>\n",
       "    <tr>\n",
       "      <th>4</th>\n",
       "      <td>k403</td>\n",
       "      <td>Ramicane</td>\n",
       "      <td>Male</td>\n",
       "      <td>21</td>\n",
       "      <td>16</td>\n",
       "      <td>20</td>\n",
       "      <td>32.997729</td>\n",
       "      <td>1</td>\n",
       "    </tr>\n",
       "  </tbody>\n",
       "</table>\n",
       "</div>"
      ],
      "text/plain": [
       "  Mouse ID Drug Regimen   Sex  Age_months  Weight (g)  Timepoint  \\\n",
       "0     k403     Ramicane  Male          21          16          0   \n",
       "1     k403     Ramicane  Male          21          16          5   \n",
       "2     k403     Ramicane  Male          21          16         10   \n",
       "3     k403     Ramicane  Male          21          16         15   \n",
       "4     k403     Ramicane  Male          21          16         20   \n",
       "\n",
       "   Tumor Volume (mm3)  Metastatic Sites  \n",
       "0           45.000000                 0  \n",
       "1           38.825898                 0  \n",
       "2           35.014271                 1  \n",
       "3           34.223992                 1  \n",
       "4           32.997729                 1  "
      ]
     },
     "execution_count": 4,
     "metadata": {},
     "output_type": "execute_result"
    }
   ],
   "source": [
    "# (1.Continued) Merging two relational data sets \n",
    "# Load from Resource folder and Read CSV files with mouse metada and study results (split into 2 files) \n",
    "# test with df.head and df.describe to make sure data loading properly\n",
    "# file_to_load = \"Resources/Mouse_metadata.csv\"\n",
    "# file_to_load_two = \"Resources/Study_results.csv\"\n",
    "# df = pd.read_csv(file_to_load)\n",
    "# df = pd.read_csv(file_to_load_two)\n",
    "# combine data sets into a single data set using merge function\n",
    "\n",
    "mouse_metadata_one = pd.read_csv(os.path.join(\"Resources\", \"Mouse_metadata.csv\"))\n",
    "# study_resultsedit = df.drop_duplicates()\n",
    "\n",
    "combine_mouse_study = pd.merge(mouse_metadata_one, study_resultsedit, on=\"Mouse ID\")\n",
    "# combine_mouse_study\n",
    "combine_mouse_study.head(5)\n"
   ]
  },
  {
   "cell_type": "code",
   "execution_count": 5,
   "metadata": {},
   "outputs": [
    {
     "name": "stdout",
     "output_type": "stream",
     "text": [
      "Tumor Volume Summary Statistics\n"
     ]
    },
    {
     "data": {
      "text/html": [
       "<div>\n",
       "<style scoped>\n",
       "    .dataframe tbody tr th:only-of-type {\n",
       "        vertical-align: middle;\n",
       "    }\n",
       "\n",
       "    .dataframe tbody tr th {\n",
       "        vertical-align: top;\n",
       "    }\n",
       "\n",
       "    .dataframe thead th {\n",
       "        text-align: right;\n",
       "    }\n",
       "</style>\n",
       "<table border=\"1\" class=\"dataframe\">\n",
       "  <thead>\n",
       "    <tr style=\"text-align: right;\">\n",
       "      <th></th>\n",
       "      <th>mean</th>\n",
       "      <th>median</th>\n",
       "      <th>var</th>\n",
       "      <th>std</th>\n",
       "      <th>sem</th>\n",
       "    </tr>\n",
       "    <tr>\n",
       "      <th>Drug Regimen</th>\n",
       "      <th></th>\n",
       "      <th></th>\n",
       "      <th></th>\n",
       "      <th></th>\n",
       "      <th></th>\n",
       "    </tr>\n",
       "  </thead>\n",
       "  <tbody>\n",
       "    <tr>\n",
       "      <th>Capomulin</th>\n",
       "      <td>40.675741</td>\n",
       "      <td>41.557809</td>\n",
       "      <td>24.947764</td>\n",
       "      <td>4.994774</td>\n",
       "      <td>0.329346</td>\n",
       "    </tr>\n",
       "    <tr>\n",
       "      <th>Ceftamin</th>\n",
       "      <td>52.591172</td>\n",
       "      <td>51.776157</td>\n",
       "      <td>39.290177</td>\n",
       "      <td>6.268188</td>\n",
       "      <td>0.469821</td>\n",
       "    </tr>\n",
       "    <tr>\n",
       "      <th>Infubinol</th>\n",
       "      <td>52.884795</td>\n",
       "      <td>51.820584</td>\n",
       "      <td>43.128684</td>\n",
       "      <td>6.567243</td>\n",
       "      <td>0.492236</td>\n",
       "    </tr>\n",
       "    <tr>\n",
       "      <th>Ketapril</th>\n",
       "      <td>55.235638</td>\n",
       "      <td>53.698743</td>\n",
       "      <td>68.553577</td>\n",
       "      <td>8.279709</td>\n",
       "      <td>0.603860</td>\n",
       "    </tr>\n",
       "    <tr>\n",
       "      <th>Naftisol</th>\n",
       "      <td>54.331565</td>\n",
       "      <td>52.509285</td>\n",
       "      <td>66.173479</td>\n",
       "      <td>8.134708</td>\n",
       "      <td>0.596466</td>\n",
       "    </tr>\n",
       "    <tr>\n",
       "      <th>Placebo</th>\n",
       "      <td>54.033581</td>\n",
       "      <td>52.288934</td>\n",
       "      <td>61.168083</td>\n",
       "      <td>7.821003</td>\n",
       "      <td>0.581331</td>\n",
       "    </tr>\n",
       "    <tr>\n",
       "      <th>Propriva</th>\n",
       "      <td>52.368318</td>\n",
       "      <td>50.909965</td>\n",
       "      <td>42.278090</td>\n",
       "      <td>6.502160</td>\n",
       "      <td>0.514041</td>\n",
       "    </tr>\n",
       "    <tr>\n",
       "      <th>Ramicane</th>\n",
       "      <td>40.216745</td>\n",
       "      <td>40.673236</td>\n",
       "      <td>23.486704</td>\n",
       "      <td>4.846308</td>\n",
       "      <td>0.320955</td>\n",
       "    </tr>\n",
       "    <tr>\n",
       "      <th>Stelasyn</th>\n",
       "      <td>54.233149</td>\n",
       "      <td>52.431737</td>\n",
       "      <td>59.450562</td>\n",
       "      <td>7.710419</td>\n",
       "      <td>0.573111</td>\n",
       "    </tr>\n",
       "    <tr>\n",
       "      <th>Zoniferol</th>\n",
       "      <td>53.236507</td>\n",
       "      <td>51.818479</td>\n",
       "      <td>48.533355</td>\n",
       "      <td>6.966589</td>\n",
       "      <td>0.516398</td>\n",
       "    </tr>\n",
       "  </tbody>\n",
       "</table>\n",
       "</div>"
      ],
      "text/plain": [
       "                   mean     median        var       std       sem\n",
       "Drug Regimen                                                     \n",
       "Capomulin     40.675741  41.557809  24.947764  4.994774  0.329346\n",
       "Ceftamin      52.591172  51.776157  39.290177  6.268188  0.469821\n",
       "Infubinol     52.884795  51.820584  43.128684  6.567243  0.492236\n",
       "Ketapril      55.235638  53.698743  68.553577  8.279709  0.603860\n",
       "Naftisol      54.331565  52.509285  66.173479  8.134708  0.596466\n",
       "Placebo       54.033581  52.288934  61.168083  7.821003  0.581331\n",
       "Propriva      52.368318  50.909965  42.278090  6.502160  0.514041\n",
       "Ramicane      40.216745  40.673236  23.486704  4.846308  0.320955\n",
       "Stelasyn      54.233149  52.431737  59.450562  7.710419  0.573111\n",
       "Zoniferol     53.236507  51.818479  48.533355  6.966589  0.516398"
      ]
     },
     "execution_count": 5,
     "metadata": {},
     "output_type": "execute_result"
    }
   ],
   "source": [
    "# 2. Generate a summary statistics table consisting of the mean, median, variance, standard deviation, and SEM of the \n",
    "#    tumor volume for each drug regimen.\n",
    "#    Use Pandas groupby.agg() function on a groupby - using combine_mouse_study which is the merge dataset\n",
    "\n",
    "# df = combine_mouse_study\n",
    "# df.aggregate([\"mean\", \"median\", \"var\", \"std\"]), these two df statements will be for each column alone.\n",
    "# combine_mouse_study.groupby(\"Drug Regimen\", as_index=False).agg({\"Age_months\": [np.mean, np.median, np.var, np.std],})\n",
    "# combine_mouse_study.groupby(\"Drug Regimen\", as_index=False).agg({\"Age_months\": \"median\"})\n",
    "\n",
    "\n",
    "df = combine_mouse_study.copy()\n",
    "print(\"Tumor Volume Summary Statistics\")\n",
    "\n",
    "df.groupby(\"Drug Regimen\")[\"Tumor Volume (mm3)\"].aggregate([\"mean\", \"median\", \"var\", \"std\", \"sem\"])\n"
   ]
  },
  {
   "cell_type": "code",
   "execution_count": 6,
   "metadata": {},
   "outputs": [
    {
     "data": {
      "text/plain": [
       "Text(0, 0.5, 'Total Mice for each Drug')"
      ]
     },
     "execution_count": 6,
     "metadata": {},
     "output_type": "execute_result"
    },
    {
     "data": {
      "image/png": "[encoded data removed]",
      "text/plain": [
       "<Figure size 432x288 with 1 Axes>"
      ]
     },
     "metadata": {
      "needs_background": "light"
     },
     "output_type": "display_data"
    }
   ],
   "source": [
    "# 3. Create a bar plot using Matplotlib's pyplot that shows the number of total mice for each treatment regimen\n",
    "#    throughout the course of study.\n",
    "\n",
    "x_axis = [\"Capomulin\", \"Ceftamin\", \"Infubinol\", \"Ketapril\", \"Naftisol\", \"Placebo\", \"Propriva\", \"Ramicane\", \\\n",
    "          \"Stelasyn\", \"Zoniferol\"]\n",
    "dfplot = df.groupby(\"Drug Regimen\").nunique()[\"Mouse ID\"]\n",
    "plt.bar(x_axis, dfplot, color=\"pink\", alpha=0.6)\n",
    "plt.title(\"Total Number of Mice for each Drug\")\n",
    "plt.xticks(x_axis, rotation=45, ha =\"right\")\n",
    "plt.xlabel(\"Drug Treatment\")\n",
    "plt.ylabel(\"Total Mice for each Drug\")"
   ]
  },
  {
   "cell_type": "code",
   "execution_count": 7,
   "metadata": {},
   "outputs": [
    {
     "data": {
      "text/plain": [
       "Text(0, 0.5, 'Total Mice for each Drug')"
      ]
     },
     "execution_count": 7,
     "metadata": {},
     "output_type": "execute_result"
    },
    {
     "data": {
      "image/png": "[encoded data removed]",
      "text/plain": [
       "<Figure size 432x288 with 1 Axes>"
      ]
     },
     "metadata": {
      "needs_background": "light"
     },
     "output_type": "display_data"
    }
   ],
   "source": [
    "# 3B. Create a bar plot using both Panda's DataFrame.plot() that shows the number of total mice for each \n",
    "#     treatment regimen throughout the course of study\n",
    "\n",
    "# df = combine_mouse_study.copy()\n",
    "dfplot.plot.bar()\n",
    "plt.title(\"Total Number of Mice for each Drug\")\n",
    "plt.ylabel(\"Total Mice for each Drug\")"
   ]
  },
  {
   "cell_type": "code",
   "execution_count": 8,
   "metadata": {},
   "outputs": [
    {
     "data": {
      "text/plain": [
       "([<matplotlib.patches.Wedge at 0x20cfc38c1c8>,\n",
       "  <matplotlib.patches.Wedge at 0x20cfc393888>],\n",
       " [Text(-0.006939175976765929, -1.0999781124353174, 'Female'),\n",
       "  Text(0.008516261426031077, 1.3499731379887985, 'Male')],\n",
       " [Text(-0.003785005078235961, -0.5999880613283548, '49.799%'),\n",
       "  Text(0.005362090527501048, 0.849983086881836, '50.201%')])"
      ]
     },
     "execution_count": 8,
     "metadata": {},
     "output_type": "execute_result"
    },
    {
     "data": {
      "image/png": "[encoded data removed]",
      "text/plain": [
       "<Figure size 432x288 with 1 Axes>"
      ]
     },
     "metadata": {},
     "output_type": "display_data"
    }
   ],
   "source": [
    "# 4A. Generate a pie plot using Matplotlib's pyplot that shows the distribution of female and male mice in the study.\n",
    "\n",
    "# mouse_metadata_one = pd.read_csv(os.path.join(\"Resources\", \"Mouse_metadata.csv\"))\n",
    "dfsexcount = mouse_metadata_one.groupby(\"Sex\")[\"Mouse ID\"].count()\n",
    "dfsexcount\n",
    "\n",
    "#labels for the sections of pie chart\n",
    "labels = [\"Female\", \"Male\"]\n",
    "# The values of each section of the pie chart\n",
    "sizes = [dfsexcount[0], dfsexcount[1]]\n",
    "# The colors of each section of the pie chart\n",
    "colors = [\"pink\", \"blue\"]\n",
    "# Tells matplotlib to separate the \"Male\" section from the others\n",
    "explode = [0, 0.25]\n",
    "\n",
    "plt.pie(sizes, explode=explode, labels=labels, colors=colors, autopct=\"%1.3f%%\", shadow=True, startangle=180)\n"
   ]
  },
  {
   "cell_type": "code",
   "execution_count": 9,
   "metadata": {
    "scrolled": true
   },
   "outputs": [
    {
     "data": {
      "text/plain": [
       "<AxesSubplot:title={'center':'Sex Distribution in Study'}, ylabel='Mouse ID'>"
      ]
     },
     "execution_count": 9,
     "metadata": {},
     "output_type": "execute_result"
    },
    {
     "data": {
      "image/png": "[encoded data removed]",
      "text/plain": [
       "<Figure size 432x288 with 1 Axes>"
      ]
     },
     "metadata": {},
     "output_type": "display_data"
    }
   ],
   "source": [
    "# 4B. Generate a pie plot using Panda's DataFrame.plot() that shows the distribution of female or male mice in the study.\n",
    "\n",
    "# dfsexcount = mouse_metadata_one.groupby(\"Sex\")[\"Mouse ID\"].count()\n",
    "\n",
    "dfsexcount.plot.pie(title=\"Sex Distribution in Study\", autopct='%1.1f%%')\n"
   ]
  },
  {
   "cell_type": "code",
   "execution_count": 10,
   "metadata": {},
   "outputs": [
    {
     "name": "stdout",
     "output_type": "stream",
     "text": [
      "Capomulin\n",
      "First and Third Quartile are 32.37735684 and 40.1592203\n",
      "Values below 20.7 could be outliers.\n",
      "Values above 51.83 could be outliers.\n",
      "Empty DataFrame\n",
      "Columns: [Mouse ID, Drug Regimen, Sex, Age_months, Weight (g), Timepoint, Tumor Volume (mm3), Metastatic Sites]\n",
      "Index: []\n",
      "\n",
      "\n",
      "\n",
      "Ramicane\n",
      "First and Third Quartile are 31.56046955 and 40.65900627\n",
      "Values below 17.91 could be outliers.\n",
      "Values above 54.31 could be outliers.\n",
      "Empty DataFrame\n",
      "Columns: [Mouse ID, Drug Regimen, Sex, Age_months, Weight (g), Timepoint, Tumor Volume (mm3), Metastatic Sites]\n",
      "Index: []\n",
      "\n",
      "\n",
      "\n",
      "Infubinol\n",
      "First and Third Quartile are 54.04860769 and 65.52574285\n",
      "Values below 36.83 could be outliers.\n",
      "Values above 82.74 could be outliers.\n",
      "    Mouse ID Drug Regimen     Sex  Age_months  Weight (g)  Timepoint  \\\n",
      "669     c326    Infubinol  Female          18          25          5   \n",
      "\n",
      "     Tumor Volume (mm3)  Metastatic Sites  \n",
      "669           36.321346                 0  \n",
      "\n",
      "\n",
      "\n",
      "Ceftamin\n",
      "First and Third Quartile are 48.72207785 and 64.29983003\n",
      "Values below 25.36 could be outliers.\n",
      "Values above 87.67 could be outliers.\n",
      "Empty DataFrame\n",
      "Columns: [Mouse ID, Drug Regimen, Sex, Age_months, Weight (g), Timepoint, Tumor Volume (mm3), Metastatic Sites]\n",
      "Index: []\n",
      "\n",
      "\n",
      "\n"
     ]
    }
   ],
   "source": [
    "# 5. Calculate the final tumor volume of each mouse across four of the most promising treatment regimens: \n",
    "#    Capomulin, Ramicane, Infubinol, and Ceftamin. \n",
    "#    Calculate the quartiles and IQR and quantitatively determine if there are any potential outliers across\n",
    "#    all four treatment regimens.\n",
    "\n",
    "def getquartilesIQR(Drug_Regimen):\n",
    "    treatments = df.loc[df[\"Drug Regimen\"] == Drug_Regimen]\\\n",
    "                .sort_values([\"Mouse ID\", \"Timepoint\"], ascending=False)\\\n",
    "                .drop_duplicates(\"Mouse ID\") \n",
    "    \n",
    "# tested the script above to determine if it will do as expected:   \n",
    "# treatments = df.loc[df[\"Drug Regimen\"] == \"Capomulin\"]\\\n",
    "#             .sort_values([\"Mouse ID\", \"Timepoint\"], ascending=False)\\\n",
    "#             .drop_duplicates(\"Mouse ID\") \n",
    "# treatments\n",
    "\n",
    "    quantiles = treatments[\"Tumor Volume (mm3)\"].quantile([0.25, 0.75])\n",
    "\n",
    "    IQR = quantiles[0.75] - quantiles[0.25]\n",
    "\n",
    "    lower_bound = round(quantiles[0.25] - (1.5*IQR), 2) \n",
    "    upper_bound = round(quantiles[0.75] + (1.5*IQR), 2)\n",
    "    print(Drug_Regimen)\n",
    "    print(f\"First and Third Quartile are {quantiles[0.25]} and {quantiles[0.75]}\")\n",
    "    print(f\"Values below {lower_bound} could be outliers.\")\n",
    "    print(f\"Values above {upper_bound} could be outliers.\")\n",
    "\n",
    "    outliers = treatments.loc[(treatments[\"Tumor Volume (mm3)\"] < lower_bound) | (treatments[\"Tumor Volume (mm3)\"] \n",
    "                > upper_bound)]\n",
    "    print(outliers)\n",
    "# create space between each treatment regimen\n",
    "    print(\"\\n\\n\")\n",
    "    \n",
    "getquartilesIQR(\"Capomulin\")\n",
    "getquartilesIQR(\"Ramicane\")\n",
    "getquartilesIQR(\"Infubinol\")\n",
    "getquartilesIQR(\"Ceftamin\")\n"
   ]
  },
  {
   "cell_type": "code",
   "execution_count": 12,
   "metadata": {},
   "outputs": [
    {
     "data": {
      "text/plain": [
       "Text(0, 0.5, 'Final Tumor Volume')"
      ]
     },
     "execution_count": 12,
     "metadata": {},
     "output_type": "execute_result"
    },
    {
     "data": {
      "image/png": "[encoded data removed]",
      "text/plain": [
       "<Figure size 720x360 with 1 Axes>"
      ]
     },
     "metadata": {
      "needs_background": "light"
     },
     "output_type": "display_data"
    }
   ],
   "source": [
    "# 6. Using Matplotlib, generate a box and whisker plot of the final tumor volume for all four treatment regimens\n",
    "#    and highlight any potential outliers in the plot by changing their color and style.\n",
    "\n",
    "\n",
    "def boxplot(Drug_Regimens):\n",
    "    data = []    \n",
    "    for regimens in Drug_Regimens:\n",
    "        \n",
    "        treatments = df.loc[df[\"Drug Regimen\"] == regimens]\\\n",
    "                    .sort_values([\"Mouse ID\", \"Timepoint\"], ascending=False)\\\n",
    "                    .drop_duplicates(\"Mouse ID\") \n",
    "        data.append(treatments[\"Tumor Volume (mm3)\"])\n",
    "# Create boxplot\n",
    "    plt.boxplot(data)\n",
    "\n",
    "# Set the size of the plot (width, height) \n",
    "plt.figure(figsize=(10,5))\n",
    "boxplot([\"Capomulin\", \"Ramicane\", \"Infubinol\", \"Ceftamin\"])\n",
    "\n",
    "# Set title/labels\n",
    "plt.title(\"Final Tumor volume for Capomulin, Ramicane, Infubinal, and Ceftamin\")\n",
    "plt.ylabel(\"Final Tumor Volume\")\n",
    "\n"
   ]
  },
  {
   "cell_type": "code",
   "execution_count": 11,
   "metadata": {},
   "outputs": [
    {
     "name": "stdout",
     "output_type": "stream",
     "text": [
      "s185\n"
     ]
    },
    {
     "data": {
      "image/png": "[encoded data removed]",
      "text/plain": [
       "<Figure size 432x288 with 1 Axes>"
      ]
     },
     "metadata": {
      "needs_background": "light"
     },
     "output_type": "display_data"
    }
   ],
   "source": [
    "# 7. Select a mouse that was treated with Capomulin and generate a line plot of tumor volume vs. timepoint for that mouse.\n",
    "\n",
    "capomulinmouse = combine_mouse_study[combine_mouse_study[\"Drug Regimen\"]==\"Capomulin\"][\"Mouse ID\"].iloc[0]\n",
    "df_mouse = combine_mouse_study[combine_mouse_study[\"Mouse ID\"]==capomulinmouse] \n",
    "print(capomulinmouse)\n",
    "\n",
    "\n",
    "plt.title(\"Line Plot of Capomulin Treated Mouse (Tumor Volume versus Timepoint)\")\n",
    "plt.xlabel(\"Timepoint\")\n",
    "plt.ylabel(\"Tumor Volume(mm3\")\n",
    "plt.plot(df_mouse[\"Timepoint\"], df_mouse[\"Tumor Volume (mm3)\"])  \n",
    "plt.show()\n"
   ]
  },
  {
   "cell_type": "code",
   "execution_count": 13,
   "metadata": {},
   "outputs": [
    {
     "name": "stdout",
     "output_type": "stream",
     "text": [
      "Capomulin Scatter Plot of Mouse Weight versus Average Tumor Volume\n"
     ]
    },
    {
     "data": {
      "image/png": "[encoded data removed]",
      "text/plain": [
       "<Figure size 432x288 with 1 Axes>"
      ]
     },
     "metadata": {
      "needs_background": "light"
     },
     "output_type": "display_data"
    }
   ],
   "source": [
    "# 8. Generate a scatter plot of mouse weight versus average tumor volume over time for the Capomulin treatment regimen.\n",
    "\n",
    "capomulinmouse = combine_mouse_study[combine_mouse_study[\"Drug Regimen\"]==\"Capomulin\"]\\\n",
    "                 .groupby(\"Mouse ID\")[[\"Weight (g)\",\"Tumor Volume (mm3)\"]].mean()\n",
    "\n",
    "capomulinmouse.plot.scatter(\"Weight (g)\",\"Tumor Volume (mm3)\")\n",
    "print(\"Capomulin Scatter Plot of Mouse Weight versus Average Tumor Volume\")"
   ]
  },
  {
   "cell_type": "code",
   "execution_count": 14,
   "metadata": {},
   "outputs": [
    {
     "name": "stdout",
     "output_type": "stream",
     "text": [
      "The correlation coefficient between mouse weight and average tumor volume is 0.84\n",
      "The correlation p-val between mouse weight and average tumor volume is 1.3225722434712645e-07\n"
     ]
    },
    {
     "data": {
      "image/png": "[encoded data removed]",
      "text/plain": [
       "<Figure size 432x288 with 1 Axes>"
      ]
     },
     "metadata": {
      "needs_background": "light"
     },
     "output_type": "display_data"
    }
   ],
   "source": [
    "# 9. Calculate the correlation coefficient and linear regression model between mouse weight and average tumor volume\n",
    "#    for the Capomulin treatment.\n",
    "#    Plot the linear regression model on top of the previous scatter plot\n",
    "#    using import scipy.stats as st module\n",
    "\n",
    "# Run linear regression\n",
    "(slope, intercept, rvalue, pvalue, stderr) = \\\n",
    "        st.linregress(capomulinmouse[\"Weight (g)\"], capomulinmouse[\"Tumor Volume (mm3)\"])\n",
    "                     \n",
    "# Plot scatter plot\n",
    "capomulinmouse.plot.scatter(\"Weight (g)\",\"Tumor Volume (mm3)\")\n",
    "                       \n",
    "# Plot Regression line\n",
    "x_values = np.linspace(15, 25, 10) \n",
    "regress_values = slope * x_values + intercept\n",
    "plt.plot(x_values, regress_values, \"r-\")                      \n",
    "                        \n",
    "print(f\"The correlation coefficient between mouse weight and average tumor volume is {round(rvalue, 2)}\")\n",
    "print(f\"The correlation p-val between mouse weight and average tumor volume is {pvalue}\") \n",
    "\n",
    "# Show plot\n",
    "plt.show()                      \n",
    "                       "
   ]
  }
 ],
 "metadata": {
  "kernelspec": {
   "display_name": "Python 3",
   "language": "python",
   "name": "python3"
  },
  "language_info": {
   "codemirror_mode": {
    "name": "ipython",
    "version": 3
   },
   "file_extension": ".py",
   "mimetype": "text/x-python",
   "name": "python",
   "nbconvert_exporter": "python",
   "pygments_lexer": "ipython3",
   "version": "3.7.6"
  }
 },
 "nbformat": 4,
 "nbformat_minor": 4
}
