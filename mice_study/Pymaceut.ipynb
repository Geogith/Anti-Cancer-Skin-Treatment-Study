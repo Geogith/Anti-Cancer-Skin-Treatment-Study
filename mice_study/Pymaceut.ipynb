{
 "cells": [
  {
   "cell_type": "code",
   "execution_count": null,
   "metadata": {},
   "outputs": [],
   "source": [
    "# Comparison of anti-cancer skin treatment Capomulin versus other skin cancer treatment performed onn 249 mice.\n",
    "# A 45 days study that observed and measured scc tumor growths in mice to determine the efficacy of Capomulin compared to other treatment regimens.\n",
    "\n",
    "# A summary of observations and insights using tables and figures to present the study results:\n",
    "#                Look across all previously generated figures and tables and write at least three observations or inferences that can be made from the data.\n",
    "#                  (Include these observation at the top of notebook)"
   ]
  },
  {
   "cell_type": "code",
   "execution_count": null,
   "metadata": {},
   "outputs": [],
   "source": [
    "# run this cell for interactive charting\n",
    "\n",
    "% matplotlib notebook"
   ]
  },
  {
   "cell_type": "code",
   "execution_count": null,
   "metadata": {},
   "outputs": [],
   "source": [
    "# Import dependencies and setup\n",
    "\n",
    "import matplotlib.pyplot as plt\n",
    "import pandas as pd\n",
    "import scipy.stats as st\n",
    "\n",
    "# Study data files:\n",
    "\n",
    "# create a resource folder for csv files\n",
    "\n",
    "# mouse_metadata_path = \\\"data/Mouse_metadata.csv\"\\\n",
    "# study_results_path = \\\"data/Study_results.csv\"\\\n",
    "\n",
    "# Read the mouse data and the study results:\n",
    "\n",
    "# mouse_metadata = pd.read_csv(mouse_metadata_path)\n",
    "# study_results = pd.read_csv(study_results_path)\n",
    "\n",
    "# Combine the data into a single dataset (merge function)\n",
    "\n"
   ]
  },
  {
   "cell_type": "code",
   "execution_count": null,
   "metadata": {},
   "outputs": [],
   "source": [
    "# 2. Generate a summary statistics table consisting of the mean, median, variance, standard deviation, and SEM of the tumor volume for each drug regimen.\n",
    "# research .agg function on a groupby\n",
    "\n",
    "\n"
   ]
  },
  {
   "cell_type": "code",
   "execution_count": null,
   "metadata": {},
   "outputs": [],
   "source": [
    "# Create data for plotting\n",
    "\n",
    " skin_treatment = [\"Mouse Id\", \"Drug Regimen\", \"Sex\", \"Age_months\", \"Weight\", \"Timepoint\", \"Tumor Volume\", \"Metastatic Sites\"]\n",
    "    dataframe\n",
    "    "
   ]
  },
  {
   "cell_type": "code",
   "execution_count": null,
   "metadata": {},
   "outputs": [],
   "source": [
    "# 3. Create a bar plot using both Panda's DataFrame.plot() and Matplotlib' pyplot that shows the number of total mice for each treatment regimen throughout the course of study.\n",
    "\n",
    "\n"
   ]
  },
  {
   "cell_type": "code",
   "execution_count": null,
   "metadata": {},
   "outputs": [],
   "source": [
    "# 4. Generate a pie plot using both Panda's DataFrame.plot() and Matplotlib' pyplot that shows the distribution of female or male mice in the study."
   ]
  },
  {
   "cell_type": "code",
   "execution_count": null,
   "metadata": {},
   "outputs": [],
   "source": [
    "# 5. Calculate the final tumor volume of each mouse across four of the most promising treatment regimens: Capomulin, Ramicane, Infubinol, and Ceftamin. \n",
    "#    Calculate the quartiles and IQR and quantitatively determine if there are any potential outliers across all four treatment regimens.\n",
    "\n",
    "\n"
   ]
  },
  {
   "cell_type": "code",
   "execution_count": null,
   "metadata": {},
   "outputs": [],
   "source": [
    "# 6. Using Matplotlib, generate a box and whisker plot of the final tumor volume for all four treatment regimens and highlight \n",
    "#     any potential outliers in the plot by changing their color and style.\n",
    "\n",
    "\n",
    "\n"
   ]
  },
  {
   "cell_type": "code",
   "execution_count": null,
   "metadata": {},
   "outputs": [],
   "source": [
    "# 7. Select a mouse that was treated with Capomulin and generate a line plot of tumor volume vs. time point for that mouse.\n",
    "\n",
    "\n"
   ]
  },
  {
   "cell_type": "code",
   "execution_count": null,
   "metadata": {},
   "outputs": [],
   "source": [
    "# 8. Generate a scatter plot of mouse weight versus average tumor volume for the Capomulin treatment regimen.\n",
    "\n",
    "\n"
   ]
  },
  {
   "cell_type": "markdown",
   "metadata": {},
   "source": [
    "# 9. Calculate the correlation coefficient and linear regression model between mouse weight and average tumor volume for the Capomulin treatment.\n",
    "     Plot the linear regression model on top of the previous scatter plot.\n",
    "\n",
    "\n"
   ]
  }
 ],
 "metadata": {
  "kernelspec": {
   "display_name": "Python 3",
   "language": "python",
   "name": "python3"
  },
  "language_info": {
   "codemirror_mode": {
    "name": "ipython",
    "version": 3
   },
   "file_extension": ".py",
   "mimetype": "text/x-python",
   "name": "python",
   "nbconvert_exporter": "python",
   "pygments_lexer": "ipython3",
   "version": "3.7.6"
  }
 },
 "nbformat": 4,
 "nbformat_minor": 4
}
